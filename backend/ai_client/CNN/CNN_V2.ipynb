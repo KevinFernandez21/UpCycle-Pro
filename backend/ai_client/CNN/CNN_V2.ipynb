{
  "nbformat": 4,
  "nbformat_minor": 0,
  "metadata": {
    "colab": {
      "provenance": [],
      "gpuType": "T4"
    },
    "kernelspec": {
      "name": "python3",
      "display_name": "Python 3"
    },
    "language_info": {
      "name": "python"
    },
    "accelerator": "GPU"
  },
  "cells": [
    {
      "cell_type": "code",
      "execution_count": null,
      "metadata": {
        "id": "dyNKcNwJsQWp"
      },
      "outputs": [],
      "source": [
        "import kagglehub\n",
        "import pandas as pd\n",
        "import os\n",
        "import numpy as np\n",
        "import matplotlib.pyplot as plt\n",
        "import seaborn as sns\n",
        "\n",
        "# TensorFlow & Keras\n",
        "import tensorflow as tf\n",
        "from tensorflow.keras.models import Model\n",
        "from tensorflow.keras import layers, models, optimizers\n",
        "from tensorflow.keras.preprocessing.image import ImageDataGenerator, load_img, img_to_array\n",
        "from tensorflow.keras.applications import MobileNetV2  # Volvemos a un modelo más simple y estable\n",
        "from tensorflow.keras.callbacks import EarlyStopping, ReduceLROnPlateau, ModelCheckpoint\n",
        "from tensorflow.keras.layers import Dense, GlobalAveragePooling2D, Dropout, BatchNormalization\n",
        "\n",
        "from sklearn.metrics import confusion_matrix, classification_report, ConfusionMatrixDisplay\n",
        "from sklearn.preprocessing import label_binarize\n"
      ]
    },
    {
      "cell_type": "code",
      "source": [
        "physical_devices = tf.config.list_physical_devices('GPU')\n",
        "if len(physical_devices) > 0:\n",
        "    tf.config.experimental.set_memory_growth(physical_devices[0], True)\n",
        "    print(\"GPU disponible y configurada\")\n",
        "else:\n",
        "    print(\"Usando CPU\")"
      ],
      "metadata": {
        "colab": {
          "base_uri": "https://localhost:8080/"
        },
        "id": "7557yBCjsc9q",
        "outputId": "a58cbafa-96c2-4598-c57d-90e529cab392"
      },
      "execution_count": null,
      "outputs": [
        {
          "output_type": "stream",
          "name": "stdout",
          "text": [
            "GPU disponible y configurada\n"
          ]
        }
      ]
    },
    {
      "cell_type": "code",
      "source": [
        "# Download dataset\n",
        "path = kagglehub.dataset_download(\"sumn2u/garbage-classification-v2\")\n",
        "path = os.path.join(path, 'garbage-dataset')\n",
        "print(\"Path to dataset files:\", path)\n",
        "\n",
        "# Materiales de interés\n",
        "materiales_interes = ['glass', 'plastic', 'metal']\n",
        "\n",
        "# Verificar que las carpetas existen\n",
        "print(\"Verificando estructura del dataset:\")\n",
        "for material in materiales_interes:\n",
        "    material_path = os.path.join(path, material)\n",
        "    if os.path.exists(material_path):\n",
        "        count = len(os.listdir(material_path))\n",
        "        print(f\"✅ {material}: {count} imágenes\")\n",
        "    else:\n",
        "        print(f\"❌ {material}: Carpeta no encontrada\")"
      ],
      "metadata": {
        "colab": {
          "base_uri": "https://localhost:8080/"
        },
        "id": "dpj_Impusf7y",
        "outputId": "9409e25b-d1af-4e22-f599-31dd6feae8b4"
      },
      "execution_count": null,
      "outputs": [
        {
          "output_type": "stream",
          "name": "stdout",
          "text": [
            "Path to dataset files: /kaggle/input/garbage-classification-v2/garbage-dataset\n",
            "Verificando estructura del dataset:\n",
            "✅ glass: 3061 imágenes\n",
            "✅ plastic: 1984 imágenes\n",
            "✅ metal: 1020 imágenes\n"
          ]
        }
      ]
    },
    {
      "cell_type": "code",
      "source": [
        "# CONFIGURACIÓN CORREGIDA\n",
        "IMG_SIZE = (224, 224)  # Volvemos al tamaño estándar\n",
        "BATCH_SIZE = 16        # Batch size más pequeño para estabilidad\n",
        "NUM_CLASSES = len(materiales_interes)\n",
        "\n",
        "print(f\"\\nConfiguración:\")\n",
        "print(f\"Tamaño de imagen: {IMG_SIZE}\")\n",
        "print(f\"Batch size: {BATCH_SIZE}\")\n",
        "print(f\"Número de clases: {NUM_CLASSES}\")\n",
        "\n",
        "# DATA AUGMENTATION MÁS CONSERVADOR\n",
        "train_datagen = ImageDataGenerator(\n",
        "    rescale=1./255,\n",
        "    rotation_range=20,          # Reducido\n",
        "    width_shift_range=0.1,      # Reducido\n",
        "    height_shift_range=0.1,     # Reducido\n",
        "    shear_range=0.1,            # Reducido\n",
        "    zoom_range=0.1,             # Reducido\n",
        "    horizontal_flip=True,\n",
        "    fill_mode='nearest',\n",
        "    validation_split=0.2        # Split estándar\n",
        ")\n",
        "\n",
        "val_test_datagen = ImageDataGenerator(\n",
        "    rescale=1./255,\n",
        "    validation_split=0.2\n",
        ")\n",
        "\n",
        "# Generadores\n",
        "train_gen = train_datagen.flow_from_directory(\n",
        "    path,\n",
        "    target_size=IMG_SIZE,\n",
        "    batch_size=BATCH_SIZE,\n",
        "    class_mode='categorical',\n",
        "    classes=materiales_interes,\n",
        "    subset='training',\n",
        "    shuffle=True,\n",
        "    seed=42\n",
        ")\n",
        "\n",
        "val_gen = val_test_datagen.flow_from_directory(\n",
        "    path,\n",
        "    target_size=IMG_SIZE,\n",
        "    batch_size=BATCH_SIZE,\n",
        "    class_mode='categorical',\n",
        "    classes=materiales_interes,\n",
        "    subset='validation',\n",
        "    shuffle=True,\n",
        "    seed=42\n",
        ")\n",
        "\n",
        "test_gen = val_test_datagen.flow_from_directory(\n",
        "    path,\n",
        "    target_size=IMG_SIZE,\n",
        "    batch_size=BATCH_SIZE,\n",
        "    class_mode='categorical',\n",
        "    classes=materiales_interes,\n",
        "    subset='validation',\n",
        "    shuffle=False,\n",
        "    seed=42\n",
        ")\n"
      ],
      "metadata": {
        "colab": {
          "base_uri": "https://localhost:8080/"
        },
        "id": "cvLAySSDslcZ",
        "outputId": "53567d0a-1cb4-47eb-a8c7-2b79d3157c82"
      },
      "execution_count": null,
      "outputs": [
        {
          "output_type": "stream",
          "name": "stdout",
          "text": [
            "\n",
            "Configuración:\n",
            "Tamaño de imagen: (224, 224)\n",
            "Batch size: 16\n",
            "Número de clases: 3\n",
            "Found 4853 images belonging to 3 classes.\n",
            "Found 1212 images belonging to 3 classes.\n",
            "Found 1212 images belonging to 3 classes.\n"
          ]
        }
      ]
    },
    {
      "cell_type": "code",
      "source": [
        "print(f\"\\n📊 Distribución de datos:\")\n",
        "print(f\"Entrenamiento: {train_gen.samples} imágenes\")\n",
        "print(f\"Validación: {val_gen.samples} imágenes\")\n",
        "print(f\"Steps por época: {train_gen.samples // BATCH_SIZE}\")\n",
        "\n",
        "class_names = list(train_gen.class_indices.keys())\n",
        "print(f\"Clases: {class_names}\")"
      ],
      "metadata": {
        "colab": {
          "base_uri": "https://localhost:8080/"
        },
        "id": "pG3TaC6Rufwj",
        "outputId": "4b3f2f18-1139-4ae4-9762-0f1bdea80142"
      },
      "execution_count": null,
      "outputs": [
        {
          "output_type": "stream",
          "name": "stdout",
          "text": [
            "\n",
            "📊 Distribución de datos:\n",
            "Entrenamiento: 4853 imágenes\n",
            "Validación: 1212 imágenes\n",
            "Steps por época: 303\n",
            "Clases: ['glass', 'plastic', 'metal']\n"
          ]
        }
      ]
    },
    {
      "cell_type": "code",
      "source": [
        "def check_class_distribution(generator, name):\n",
        "    \"\"\"Verificar distribución de clases\"\"\"\n",
        "    print(f\"\\n🔍 Distribución de clases en {name}:\")\n",
        "    class_counts = {}\n",
        "\n",
        "    # Resetear generador\n",
        "    generator.reset()\n",
        "    steps = len(generator)\n",
        "\n",
        "    for step in range(min(steps, 10)):  # Verificar solo primeros 10 batches\n",
        "        batch_x, batch_y = next(generator)\n",
        "        batch_classes = np.argmax(batch_y, axis=1)\n",
        "\n",
        "        for class_idx in batch_classes:\n",
        "            class_name = class_names[class_idx]\n",
        "            class_counts[class_name] = class_counts.get(class_name, 0) + 1\n",
        "\n",
        "    for class_name, count in class_counts.items():\n",
        "        print(f\"  {class_name}: {count}\")\n",
        "\n",
        "    generator.reset()\n",
        "    return class_counts"
      ],
      "metadata": {
        "id": "svjzselWsmXs"
      },
      "execution_count": null,
      "outputs": []
    },
    {
      "cell_type": "code",
      "source": [
        "# Verificar distribución\n",
        "train_dist = check_class_distribution(train_gen, \"Entrenamiento\")\n",
        "val_dist = check_class_distribution(val_gen, \"Validación\")\n",
        "\n",
        "# MODELO SIMPLIFICADO Y ESTABLE\n",
        "def create_stable_model(input_shape=(224, 224, 3), num_classes=3):\n",
        "    \"\"\"\n",
        "    Crear un modelo estable y simple\n",
        "    \"\"\"\n",
        "    # Modelo base MobileNetV2 (probado y estable)\n",
        "    base_model = MobileNetV2(\n",
        "        weights='imagenet',\n",
        "        include_top=False,\n",
        "        input_shape=input_shape\n",
        "    )\n",
        "\n",
        "    # Congelar completamente el modelo base\n",
        "    base_model.trainable = False\n",
        "\n",
        "    # Modelo completo\n",
        "    model = models.Sequential([\n",
        "        base_model,\n",
        "        GlobalAveragePooling2D(),\n",
        "        BatchNormalization(),\n",
        "        Dropout(0.3),\n",
        "        Dense(128, activation='relu'),\n",
        "        BatchNormalization(),\n",
        "        Dropout(0.2),\n",
        "        Dense(num_classes, activation='softmax')\n",
        "    ])\n",
        "\n",
        "    return model, base_model"
      ],
      "metadata": {
        "colab": {
          "base_uri": "https://localhost:8080/"
        },
        "id": "W0xIchxXsqmM",
        "outputId": "45c39ea0-1f2b-44e3-f4f4-a1404e257565"
      },
      "execution_count": null,
      "outputs": [
        {
          "output_type": "stream",
          "name": "stdout",
          "text": [
            "\n",
            "🔍 Distribución de clases en Entrenamiento:\n",
            "  plastic: 50\n",
            "  glass: 82\n",
            "  metal: 28\n",
            "\n",
            "🔍 Distribución de clases en Validación:\n",
            "  plastic: 47\n",
            "  glass: 88\n",
            "  metal: 25\n"
          ]
        }
      ]
    },
    {
      "cell_type": "code",
      "source": [
        "# Crear modelo\n",
        "print(\"\\n🏗️ Creando modelo...\")\n",
        "model, base_model = create_stable_model(\n",
        "    input_shape=(*IMG_SIZE, 3),\n",
        "    num_classes=NUM_CLASSES\n",
        ")\n",
        "print(\"Arquitectura del modelo:\")\n",
        "model.summary()"
      ],
      "metadata": {
        "colab": {
          "base_uri": "https://localhost:8080/",
          "height": 501
        },
        "id": "6K1cKPd54bI0",
        "outputId": "f8d792e8-1354-463a-9c49-5865b723b3f2"
      },
      "execution_count": null,
      "outputs": [
        {
          "output_type": "stream",
          "name": "stdout",
          "text": [
            "\n",
            "🏗️ Creando modelo...\n",
            "Arquitectura del modelo:\n"
          ]
        },
        {
          "output_type": "display_data",
          "data": {
            "text/plain": [
              "\u001b[1mModel: \"sequential_1\"\u001b[0m\n"
            ],
            "text/html": [
              "<pre style=\"white-space:pre;overflow-x:auto;line-height:normal;font-family:Menlo,'DejaVu Sans Mono',consolas,'Courier New',monospace\"><span style=\"font-weight: bold\">Model: \"sequential_1\"</span>\n",
              "</pre>\n"
            ]
          },
          "metadata": {}
        },
        {
          "output_type": "display_data",
          "data": {
            "text/plain": [
              "┏━━━━━━━━━━━━━━━━━━━━━━━━━━━━━━━━━┳━━━━━━━━━━━━━━━━━━━━━━━━┳━━━━━━━━━━━━━━━┓\n",
              "┃\u001b[1m \u001b[0m\u001b[1mLayer (type)                   \u001b[0m\u001b[1m \u001b[0m┃\u001b[1m \u001b[0m\u001b[1mOutput Shape          \u001b[0m\u001b[1m \u001b[0m┃\u001b[1m \u001b[0m\u001b[1m      Param #\u001b[0m\u001b[1m \u001b[0m┃\n",
              "┡━━━━━━━━━━━━━━━━━━━━━━━━━━━━━━━━━╇━━━━━━━━━━━━━━━━━━━━━━━━╇━━━━━━━━━━━━━━━┩\n",
              "│ mobilenetv2_1.00_224            │ (\u001b[38;5;45mNone\u001b[0m, \u001b[38;5;34m7\u001b[0m, \u001b[38;5;34m7\u001b[0m, \u001b[38;5;34m1280\u001b[0m)     │     \u001b[38;5;34m2,257,984\u001b[0m │\n",
              "│ (\u001b[38;5;33mFunctional\u001b[0m)                    │                        │               │\n",
              "├─────────────────────────────────┼────────────────────────┼───────────────┤\n",
              "│ global_average_pooling2d_2      │ (\u001b[38;5;45mNone\u001b[0m, \u001b[38;5;34m1280\u001b[0m)           │             \u001b[38;5;34m0\u001b[0m │\n",
              "│ (\u001b[38;5;33mGlobalAveragePooling2D\u001b[0m)        │                        │               │\n",
              "├─────────────────────────────────┼────────────────────────┼───────────────┤\n",
              "│ batch_normalization_4           │ (\u001b[38;5;45mNone\u001b[0m, \u001b[38;5;34m1280\u001b[0m)           │         \u001b[38;5;34m5,120\u001b[0m │\n",
              "│ (\u001b[38;5;33mBatchNormalization\u001b[0m)            │                        │               │\n",
              "├─────────────────────────────────┼────────────────────────┼───────────────┤\n",
              "│ dropout_4 (\u001b[38;5;33mDropout\u001b[0m)             │ (\u001b[38;5;45mNone\u001b[0m, \u001b[38;5;34m1280\u001b[0m)           │             \u001b[38;5;34m0\u001b[0m │\n",
              "├─────────────────────────────────┼────────────────────────┼───────────────┤\n",
              "│ dense_4 (\u001b[38;5;33mDense\u001b[0m)                 │ (\u001b[38;5;45mNone\u001b[0m, \u001b[38;5;34m128\u001b[0m)            │       \u001b[38;5;34m163,968\u001b[0m │\n",
              "├─────────────────────────────────┼────────────────────────┼───────────────┤\n",
              "│ batch_normalization_5           │ (\u001b[38;5;45mNone\u001b[0m, \u001b[38;5;34m128\u001b[0m)            │           \u001b[38;5;34m512\u001b[0m │\n",
              "│ (\u001b[38;5;33mBatchNormalization\u001b[0m)            │                        │               │\n",
              "├─────────────────────────────────┼────────────────────────┼───────────────┤\n",
              "│ dropout_5 (\u001b[38;5;33mDropout\u001b[0m)             │ (\u001b[38;5;45mNone\u001b[0m, \u001b[38;5;34m128\u001b[0m)            │             \u001b[38;5;34m0\u001b[0m │\n",
              "├─────────────────────────────────┼────────────────────────┼───────────────┤\n",
              "│ dense_5 (\u001b[38;5;33mDense\u001b[0m)                 │ (\u001b[38;5;45mNone\u001b[0m, \u001b[38;5;34m3\u001b[0m)              │           \u001b[38;5;34m387\u001b[0m │\n",
              "└─────────────────────────────────┴────────────────────────┴───────────────┘\n"
            ],
            "text/html": [
              "<pre style=\"white-space:pre;overflow-x:auto;line-height:normal;font-family:Menlo,'DejaVu Sans Mono',consolas,'Courier New',monospace\">┏━━━━━━━━━━━━━━━━━━━━━━━━━━━━━━━━━┳━━━━━━━━━━━━━━━━━━━━━━━━┳━━━━━━━━━━━━━━━┓\n",
              "┃<span style=\"font-weight: bold\"> Layer (type)                    </span>┃<span style=\"font-weight: bold\"> Output Shape           </span>┃<span style=\"font-weight: bold\">       Param # </span>┃\n",
              "┡━━━━━━━━━━━━━━━━━━━━━━━━━━━━━━━━━╇━━━━━━━━━━━━━━━━━━━━━━━━╇━━━━━━━━━━━━━━━┩\n",
              "│ mobilenetv2_1.00_224            │ (<span style=\"color: #00d7ff; text-decoration-color: #00d7ff\">None</span>, <span style=\"color: #00af00; text-decoration-color: #00af00\">7</span>, <span style=\"color: #00af00; text-decoration-color: #00af00\">7</span>, <span style=\"color: #00af00; text-decoration-color: #00af00\">1280</span>)     │     <span style=\"color: #00af00; text-decoration-color: #00af00\">2,257,984</span> │\n",
              "│ (<span style=\"color: #0087ff; text-decoration-color: #0087ff\">Functional</span>)                    │                        │               │\n",
              "├─────────────────────────────────┼────────────────────────┼───────────────┤\n",
              "│ global_average_pooling2d_2      │ (<span style=\"color: #00d7ff; text-decoration-color: #00d7ff\">None</span>, <span style=\"color: #00af00; text-decoration-color: #00af00\">1280</span>)           │             <span style=\"color: #00af00; text-decoration-color: #00af00\">0</span> │\n",
              "│ (<span style=\"color: #0087ff; text-decoration-color: #0087ff\">GlobalAveragePooling2D</span>)        │                        │               │\n",
              "├─────────────────────────────────┼────────────────────────┼───────────────┤\n",
              "│ batch_normalization_4           │ (<span style=\"color: #00d7ff; text-decoration-color: #00d7ff\">None</span>, <span style=\"color: #00af00; text-decoration-color: #00af00\">1280</span>)           │         <span style=\"color: #00af00; text-decoration-color: #00af00\">5,120</span> │\n",
              "│ (<span style=\"color: #0087ff; text-decoration-color: #0087ff\">BatchNormalization</span>)            │                        │               │\n",
              "├─────────────────────────────────┼────────────────────────┼───────────────┤\n",
              "│ dropout_4 (<span style=\"color: #0087ff; text-decoration-color: #0087ff\">Dropout</span>)             │ (<span style=\"color: #00d7ff; text-decoration-color: #00d7ff\">None</span>, <span style=\"color: #00af00; text-decoration-color: #00af00\">1280</span>)           │             <span style=\"color: #00af00; text-decoration-color: #00af00\">0</span> │\n",
              "├─────────────────────────────────┼────────────────────────┼───────────────┤\n",
              "│ dense_4 (<span style=\"color: #0087ff; text-decoration-color: #0087ff\">Dense</span>)                 │ (<span style=\"color: #00d7ff; text-decoration-color: #00d7ff\">None</span>, <span style=\"color: #00af00; text-decoration-color: #00af00\">128</span>)            │       <span style=\"color: #00af00; text-decoration-color: #00af00\">163,968</span> │\n",
              "├─────────────────────────────────┼────────────────────────┼───────────────┤\n",
              "│ batch_normalization_5           │ (<span style=\"color: #00d7ff; text-decoration-color: #00d7ff\">None</span>, <span style=\"color: #00af00; text-decoration-color: #00af00\">128</span>)            │           <span style=\"color: #00af00; text-decoration-color: #00af00\">512</span> │\n",
              "│ (<span style=\"color: #0087ff; text-decoration-color: #0087ff\">BatchNormalization</span>)            │                        │               │\n",
              "├─────────────────────────────────┼────────────────────────┼───────────────┤\n",
              "│ dropout_5 (<span style=\"color: #0087ff; text-decoration-color: #0087ff\">Dropout</span>)             │ (<span style=\"color: #00d7ff; text-decoration-color: #00d7ff\">None</span>, <span style=\"color: #00af00; text-decoration-color: #00af00\">128</span>)            │             <span style=\"color: #00af00; text-decoration-color: #00af00\">0</span> │\n",
              "├─────────────────────────────────┼────────────────────────┼───────────────┤\n",
              "│ dense_5 (<span style=\"color: #0087ff; text-decoration-color: #0087ff\">Dense</span>)                 │ (<span style=\"color: #00d7ff; text-decoration-color: #00d7ff\">None</span>, <span style=\"color: #00af00; text-decoration-color: #00af00\">3</span>)              │           <span style=\"color: #00af00; text-decoration-color: #00af00\">387</span> │\n",
              "└─────────────────────────────────┴────────────────────────┴───────────────┘\n",
              "</pre>\n"
            ]
          },
          "metadata": {}
        },
        {
          "output_type": "display_data",
          "data": {
            "text/plain": [
              "\u001b[1m Total params: \u001b[0m\u001b[38;5;34m2,427,971\u001b[0m (9.26 MB)\n"
            ],
            "text/html": [
              "<pre style=\"white-space:pre;overflow-x:auto;line-height:normal;font-family:Menlo,'DejaVu Sans Mono',consolas,'Courier New',monospace\"><span style=\"font-weight: bold\"> Total params: </span><span style=\"color: #00af00; text-decoration-color: #00af00\">2,427,971</span> (9.26 MB)\n",
              "</pre>\n"
            ]
          },
          "metadata": {}
        },
        {
          "output_type": "display_data",
          "data": {
            "text/plain": [
              "\u001b[1m Trainable params: \u001b[0m\u001b[38;5;34m167,171\u001b[0m (653.01 KB)\n"
            ],
            "text/html": [
              "<pre style=\"white-space:pre;overflow-x:auto;line-height:normal;font-family:Menlo,'DejaVu Sans Mono',consolas,'Courier New',monospace\"><span style=\"font-weight: bold\"> Trainable params: </span><span style=\"color: #00af00; text-decoration-color: #00af00\">167,171</span> (653.01 KB)\n",
              "</pre>\n"
            ]
          },
          "metadata": {}
        },
        {
          "output_type": "display_data",
          "data": {
            "text/plain": [
              "\u001b[1m Non-trainable params: \u001b[0m\u001b[38;5;34m2,260,800\u001b[0m (8.62 MB)\n"
            ],
            "text/html": [
              "<pre style=\"white-space:pre;overflow-x:auto;line-height:normal;font-family:Menlo,'DejaVu Sans Mono',consolas,'Courier New',monospace\"><span style=\"font-weight: bold\"> Non-trainable params: </span><span style=\"color: #00af00; text-decoration-color: #00af00\">2,260,800</span> (8.62 MB)\n",
              "</pre>\n"
            ]
          },
          "metadata": {}
        }
      ]
    },
    {
      "cell_type": "code",
      "source": [
        "# COMPILACIÓN CONSERVADORA\n",
        "model.compile(\n",
        "    optimizer=optimizers.Adam(learning_rate=0.0001),  # LR más bajo\n",
        "    loss='categorical_crossentropy',\n",
        "    metrics=['accuracy']  # Solo accuracy básica por ahora\n",
        ")"
      ],
      "metadata": {
        "id": "N9islYus4lHP"
      },
      "execution_count": null,
      "outputs": []
    },
    {
      "cell_type": "code",
      "source": [
        "# CALLBACKS MEJORADOS\n",
        "callbacks = [\n",
        "    EarlyStopping(\n",
        "        monitor='val_accuracy',\n",
        "        patience=8,\n",
        "        restore_best_weights=True,\n",
        "        verbose=1,\n",
        "        mode='max'\n",
        "    ),\n",
        "    ReduceLROnPlateau(\n",
        "        monitor='val_loss',\n",
        "        factor=0.5,\n",
        "        patience=4,\n",
        "        min_lr=1e-7,\n",
        "        verbose=1,\n",
        "        mode='min'\n",
        "    ),\n",
        "    ModelCheckpoint(\n",
        "        'best_model.keras',  # Formato moderno\n",
        "        monitor='val_accuracy',\n",
        "        save_best_only=True,\n",
        "        verbose=1,\n",
        "        mode='max'\n",
        "    )\n",
        "]\n"
      ],
      "metadata": {
        "id": "AYsguhJlsuxB"
      },
      "execution_count": null,
      "outputs": []
    },
    {
      "cell_type": "code",
      "source": [
        "# FUNCIÓN DE DIAGNÓSTICO\n",
        "def diagnostic_training(model, train_gen, val_gen, epochs=3):\n",
        "    \"\"\"\n",
        "    Entrenamiento diagnóstico para detectar problemas\n",
        "    \"\"\"\n",
        "    print(\"🔬 DIAGNÓSTICO INICIAL (3 epochs)\")\n",
        "\n",
        "    # Verificar un batch\n",
        "    print(\"\\n📋 Verificando primer batch:\")\n",
        "    train_gen.reset()\n",
        "    batch_x, batch_y = next(train_gen)\n",
        "\n",
        "    print(f\"Forma del batch X: {batch_x.shape}\")\n",
        "    print(f\"Forma del batch Y: {batch_y.shape}\")\n",
        "    print(f\"Rango de valores X: [{batch_x.min():.3f}, {batch_x.max():.3f}]\")\n",
        "    print(f\"Suma de Y (debe ser 1 por muestra): {batch_y.sum(axis=1)[:5]}\")\n",
        "\n",
        "    # Predicción inicial\n",
        "    initial_pred = model.predict(batch_x[:5], verbose=0)\n",
        "    print(f\"Predicciones iniciales (primeras 5):\")\n",
        "    for i, pred in enumerate(initial_pred):\n",
        "        print(f\"  Muestra {i}: {pred}\")\n",
        "\n",
        "    # Entrenamiento diagnóstico\n",
        "    train_gen.reset()\n",
        "    val_gen.reset()\n",
        "\n",
        "    history = model.fit(\n",
        "        train_gen,\n",
        "        epochs=epochs,\n",
        "        validation_data=val_gen,\n",
        "        verbose=1,\n",
        "        steps_per_epoch=min(20, train_gen.samples // BATCH_SIZE),  # Pocas steps para diagnóstico\n",
        "        validation_steps=min(10, val_gen.samples // BATCH_SIZE)\n",
        "    )\n",
        "\n",
        "    return history"
      ],
      "metadata": {
        "id": "z3ymEyfHsx2M"
      },
      "execution_count": null,
      "outputs": []
    },
    {
      "cell_type": "code",
      "source": [
        "# EJECUTAR DIAGNÓSTICO\n",
        "print(\"🚀 Iniciando entrenamiento diagnóstico...\")\n",
        "diagnostic_history = diagnostic_training(model, train_gen, val_gen, epochs=3)\n"
      ],
      "metadata": {
        "colab": {
          "base_uri": "https://localhost:8080/"
        },
        "id": "LcMC2eMNszU0",
        "outputId": "ddb6ecd5-47b2-4933-b2fc-8ad302a3fbb5"
      },
      "execution_count": null,
      "outputs": [
        {
          "output_type": "stream",
          "name": "stdout",
          "text": [
            "🚀 Iniciando entrenamiento diagnóstico...\n",
            "🔬 DIAGNÓSTICO INICIAL (3 epochs)\n",
            "\n",
            "📋 Verificando primer batch:\n",
            "Forma del batch X: (16, 224, 224, 3)\n",
            "Forma del batch Y: (16, 3)\n",
            "Rango de valores X: [0.000, 1.000]\n",
            "Suma de Y (debe ser 1 por muestra): [1. 1. 1. 1. 1.]\n",
            "Predicciones iniciales (primeras 5):\n",
            "  Muestra 0: [0.11659589 0.8221406  0.06126342]\n",
            "  Muestra 1: [0.6547296  0.2060286  0.13924189]\n",
            "  Muestra 2: [0.7684107  0.19330263 0.03828666]\n",
            "  Muestra 3: [0.57484156 0.31740183 0.10775666]\n",
            "  Muestra 4: [0.7313329  0.16142455 0.10724249]\n"
          ]
        },
        {
          "output_type": "stream",
          "name": "stderr",
          "text": [
            "/usr/local/lib/python3.11/dist-packages/keras/src/trainers/data_adapters/py_dataset_adapter.py:121: UserWarning: Your `PyDataset` class should call `super().__init__(**kwargs)` in its constructor. `**kwargs` can include `workers`, `use_multiprocessing`, `max_queue_size`. Do not pass these arguments to `fit()`, as they will be ignored.\n",
            "  self._warn_if_super_not_called()\n"
          ]
        },
        {
          "output_type": "stream",
          "name": "stdout",
          "text": [
            "Epoch 1/3\n",
            "\u001b[1m20/20\u001b[0m \u001b[32m━━━━━━━━━━━━━━━━━━━━\u001b[0m\u001b[37m\u001b[0m \u001b[1m21s\u001b[0m 544ms/step - accuracy: 0.4053 - loss: 1.5800 - val_accuracy: 0.4563 - val_loss: 1.0577\n",
            "Epoch 2/3\n",
            "\u001b[1m20/20\u001b[0m \u001b[32m━━━━━━━━━━━━━━━━━━━━\u001b[0m\u001b[37m\u001b[0m \u001b[1m8s\u001b[0m 434ms/step - accuracy: 0.3525 - loss: 1.3684 - val_accuracy: 0.5750 - val_loss: 0.8696\n",
            "Epoch 3/3\n",
            "\u001b[1m20/20\u001b[0m \u001b[32m━━━━━━━━━━━━━━━━━━━━\u001b[0m\u001b[37m\u001b[0m \u001b[1m6s\u001b[0m 296ms/step - accuracy: 0.5476 - loss: 0.9995 - val_accuracy: 0.6562 - val_loss: 0.8102\n"
          ]
        }
      ]
    },
    {
      "cell_type": "code",
      "source": [
        "# ANALIZAR RESULTADOS DEL DIAGNÓSTICO\n",
        "def analyze_diagnostic(history):\n",
        "    \"\"\"Analizar resultados del diagnóstico\"\"\"\n",
        "    print(\"\\n📊 ANÁLISIS DE DIAGNÓSTICO:\")\n",
        "\n",
        "    last_train_acc = history.history['accuracy'][-1]\n",
        "    last_val_acc = history.history['val_accuracy'][-1]\n",
        "    last_train_loss = history.history['loss'][-1]\n",
        "    last_val_loss = history.history['val_loss'][-1]\n",
        "\n",
        "    print(f\"Accuracy final entrenamiento: {last_train_acc:.4f}\")\n",
        "    print(f\"Accuracy final validación: {last_val_acc:.4f}\")\n",
        "    print(f\"Loss final entrenamiento: {last_train_loss:.4f}\")\n",
        "    print(f\"Loss final validación: {last_val_loss:.4f}\")\n",
        "\n",
        "    # Diagnóstico\n",
        "    if last_val_loss > 10:\n",
        "        print(\"⚠️  PROBLEMA: Loss de validación muy alto\")\n",
        "    if last_val_acc < 0.4:\n",
        "        print(\"⚠️  PROBLEMA: Accuracy muy baja\")\n",
        "    if abs(last_train_acc - last_val_acc) > 0.3:\n",
        "        print(\"⚠️  PROBLEMA: Overfitting detectado\")\n",
        "\n",
        "    # Sugerencias\n",
        "    if last_val_acc > 0.6:\n",
        "        print(\"✅ Modelo funciona bien, continuar entrenamiento\")\n",
        "        return True\n",
        "    else:\n",
        "        print(\"❌ Modelo necesita ajustes\")\n",
        "        return False"
      ],
      "metadata": {
        "id": "lJvd4X_Os0oN"
      },
      "execution_count": null,
      "outputs": []
    },
    {
      "cell_type": "code",
      "source": [
        "# Analizar diagnóstico\n",
        "should_continue = analyze_diagnostic(diagnostic_history)\n",
        "\n",
        "if should_continue:\n",
        "    print(\"\\n🎯 ENTRENAMIENTO COMPLETO\")\n",
        "\n",
        "    # Resetear generadores\n",
        "    train_gen.reset()\n",
        "    val_gen.reset()\n",
        "\n",
        "    # Entrenamiento completo\n",
        "    history = model.fit(\n",
        "        train_gen,\n",
        "        epochs=20,\n",
        "        validation_data=val_gen,\n",
        "        callbacks=callbacks,\n",
        "        verbose=1\n",
        "    )\n",
        "\n",
        "    # Gráficas de entrenamiento\n",
        "    def plot_training_results(history):\n",
        "        \"\"\"Graficar resultados del entrenamiento\"\"\"\n",
        "        fig, (ax1, ax2) = plt.subplots(1, 2, figsize=(15, 5))\n",
        "\n",
        "        # Accuracy\n",
        "        ax1.plot(history.history['accuracy'], label='Train Accuracy', linewidth=2)\n",
        "        ax1.plot(history.history['val_accuracy'], label='Val Accuracy', linewidth=2)\n",
        "        ax1.set_title('Model Accuracy')\n",
        "        ax1.set_xlabel('Epoch')\n",
        "        ax1.set_ylabel('Accuracy')\n",
        "        ax1.legend()\n",
        "        ax1.grid(True, alpha=0.3)\n",
        "\n",
        "        # Loss\n",
        "        ax2.plot(history.history['loss'], label='Train Loss', linewidth=2)\n",
        "        ax2.plot(history.history['val_loss'], label='Val Loss', linewidth=2)\n",
        "        ax2.set_title('Model Loss')\n",
        "        ax2.set_xlabel('Epoch')\n",
        "        ax2.set_ylabel('Loss')\n",
        "        ax2.legend()\n",
        "        ax2.grid(True, alpha=0.3)\n",
        "\n",
        "        plt.tight_layout()\n",
        "        plt.show()\n",
        "\n",
        "    plot_training_results(history)\n",
        "\n",
        "    # Evaluación final\n",
        "    print(\"\\n📈 EVALUACIÓN FINAL\")\n",
        "    test_gen.reset()\n",
        "    test_results = model.evaluate(test_gen, verbose=1)\n",
        "    print(f\"Test Accuracy: {test_results[1]*100:.2f}%\")\n",
        "\n",
        "    # Predicciones y matriz de confusión\n",
        "    print(\"\\n🎯 Generando predicciones...\")\n",
        "    test_gen.reset()\n",
        "    y_pred_probs = model.predict(test_gen, verbose=1)\n",
        "    y_pred = np.argmax(y_pred_probs, axis=1)\n",
        "    y_true = test_gen.classes\n",
        "\n",
        "    # Reporte de clasificación\n",
        "    print(\"\\n📋 Reporte de Clasificación:\")\n",
        "    report = classification_report(\n",
        "        y_true,\n",
        "        y_pred,\n",
        "        target_names=class_names,\n",
        "        digits=4\n",
        "    )\n",
        "    print(report)\n",
        "\n",
        "    # Matriz de confusión\n",
        "    cm = confusion_matrix(y_true, y_pred)\n",
        "    plt.figure(figsize=(8, 6))\n",
        "    sns.heatmap(\n",
        "        cm,\n",
        "        annot=True,\n",
        "        fmt='d',\n",
        "        cmap='Blues',\n",
        "        xticklabels=class_names,\n",
        "        yticklabels=class_names\n",
        "    )\n",
        "    plt.title('Confusion Matrix - Modelo Corregido')\n",
        "    plt.xlabel('Predicted Label')\n",
        "    plt.ylabel('True Label')\n",
        "    plt.tight_layout()\n",
        "    plt.show()\n",
        "\n",
        "    # Guardar modelo\n",
        "    model.save('modelo_corregido_materiales.keras')\n",
        "    print(\"✅ Modelo guardado como 'modelo_corregido_materiales.keras'\")\n",
        "\n",
        "else:\n",
        "    print(\"\\n🔧 SUGERENCIAS PARA MEJORAR:\")\n",
        "    print(\"1. Verificar que las imágenes están correctamente etiquetadas\")\n",
        "    print(\"2. Revisar el balance de clases\")\n",
        "    print(\"3. Probar con un learning rate aún más bajo (1e-5)\")\n",
        "    print(\"4. Verificar que las imágenes se cargan correctamente\")\n",
        "    print(\"5. Considerar usar un modelo pre-entrenado más simple\")\n"
      ],
      "metadata": {
        "colab": {
          "base_uri": "https://localhost:8080/",
          "height": 1000
        },
        "id": "M5698bT2s2O0",
        "outputId": "5b0615eb-13ec-4e2e-bae1-19f64826685e"
      },
      "execution_count": null,
      "outputs": [
        {
          "output_type": "stream",
          "name": "stdout",
          "text": [
            "\n",
            "📊 ANÁLISIS DE DIAGNÓSTICO:\n",
            "Accuracy final entrenamiento: 0.5656\n",
            "Accuracy final validación: 0.6562\n",
            "Loss final entrenamiento: 0.9822\n",
            "Loss final validación: 0.8102\n",
            "✅ Modelo funciona bien, continuar entrenamiento\n",
            "\n",
            "🎯 ENTRENAMIENTO COMPLETO\n",
            "Epoch 1/20\n",
            "\u001b[1m304/304\u001b[0m \u001b[32m━━━━━━━━━━━━━━━━━━━━\u001b[0m\u001b[37m\u001b[0m \u001b[1m0s\u001b[0m 248ms/step - accuracy: 0.6470 - loss: 0.8800\n",
            "Epoch 1: val_accuracy improved from -inf to 0.81436, saving model to best_model.keras\n",
            "\u001b[1m304/304\u001b[0m \u001b[32m━━━━━━━━━━━━━━━━━━━━\u001b[0m\u001b[37m\u001b[0m \u001b[1m84s\u001b[0m 277ms/step - accuracy: 0.6472 - loss: 0.8795 - val_accuracy: 0.8144 - val_loss: 0.4992 - learning_rate: 1.0000e-04\n",
            "Epoch 2/20\n",
            "\u001b[1m304/304\u001b[0m \u001b[32m━━━━━━━━━━━━━━━━━━━━\u001b[0m\u001b[37m\u001b[0m \u001b[1m0s\u001b[0m 255ms/step - accuracy: 0.7753 - loss: 0.5953\n",
            "Epoch 2: val_accuracy improved from 0.81436 to 0.85314, saving model to best_model.keras\n",
            "\u001b[1m304/304\u001b[0m \u001b[32m━━━━━━━━━━━━━━━━━━━━\u001b[0m\u001b[37m\u001b[0m \u001b[1m84s\u001b[0m 277ms/step - accuracy: 0.7754 - loss: 0.5952 - val_accuracy: 0.8531 - val_loss: 0.4126 - learning_rate: 1.0000e-04\n",
            "Epoch 3/20\n",
            "\u001b[1m304/304\u001b[0m \u001b[32m━━━━━━━━━━━━━━━━━━━━\u001b[0m\u001b[37m\u001b[0m \u001b[1m0s\u001b[0m 232ms/step - accuracy: 0.8150 - loss: 0.4848\n",
            "Epoch 3: val_accuracy improved from 0.85314 to 0.86386, saving model to best_model.keras\n",
            "\u001b[1m304/304\u001b[0m \u001b[32m━━━━━━━━━━━━━━━━━━━━\u001b[0m\u001b[37m\u001b[0m \u001b[1m134s\u001b[0m 252ms/step - accuracy: 0.8151 - loss: 0.4847 - val_accuracy: 0.8639 - val_loss: 0.3718 - learning_rate: 1.0000e-04\n",
            "Epoch 4/20\n",
            "\u001b[1m304/304\u001b[0m \u001b[32m━━━━━━━━━━━━━━━━━━━━\u001b[0m\u001b[37m\u001b[0m \u001b[1m0s\u001b[0m 235ms/step - accuracy: 0.8525 - loss: 0.3990\n",
            "Epoch 4: val_accuracy improved from 0.86386 to 0.87871, saving model to best_model.keras\n",
            "\u001b[1m304/304\u001b[0m \u001b[32m━━━━━━━━━━━━━━━━━━━━\u001b[0m\u001b[37m\u001b[0m \u001b[1m78s\u001b[0m 256ms/step - accuracy: 0.8525 - loss: 0.3990 - val_accuracy: 0.8787 - val_loss: 0.3463 - learning_rate: 1.0000e-04\n",
            "Epoch 5/20\n",
            "\u001b[1m304/304\u001b[0m \u001b[32m━━━━━━━━━━━━━━━━━━━━\u001b[0m\u001b[37m\u001b[0m \u001b[1m0s\u001b[0m 235ms/step - accuracy: 0.8562 - loss: 0.3960\n",
            "Epoch 5: val_accuracy improved from 0.87871 to 0.89191, saving model to best_model.keras\n",
            "\u001b[1m304/304\u001b[0m \u001b[32m━━━━━━━━━━━━━━━━━━━━\u001b[0m\u001b[37m\u001b[0m \u001b[1m78s\u001b[0m 256ms/step - accuracy: 0.8562 - loss: 0.3960 - val_accuracy: 0.8919 - val_loss: 0.3184 - learning_rate: 1.0000e-04\n",
            "Epoch 6/20\n",
            "\u001b[1m304/304\u001b[0m \u001b[32m━━━━━━━━━━━━━━━━━━━━\u001b[0m\u001b[37m\u001b[0m \u001b[1m0s\u001b[0m 226ms/step - accuracy: 0.8508 - loss: 0.3937\n",
            "Epoch 6: val_accuracy improved from 0.89191 to 0.89274, saving model to best_model.keras\n",
            "\u001b[1m304/304\u001b[0m \u001b[32m━━━━━━━━━━━━━━━━━━━━\u001b[0m\u001b[37m\u001b[0m \u001b[1m76s\u001b[0m 249ms/step - accuracy: 0.8508 - loss: 0.3937 - val_accuracy: 0.8927 - val_loss: 0.3123 - learning_rate: 1.0000e-04\n",
            "Epoch 7/20\n",
            "\u001b[1m304/304\u001b[0m \u001b[32m━━━━━━━━━━━━━━━━━━━━\u001b[0m\u001b[37m\u001b[0m \u001b[1m0s\u001b[0m 231ms/step - accuracy: 0.8781 - loss: 0.3395\n",
            "Epoch 7: val_accuracy improved from 0.89274 to 0.89934, saving model to best_model.keras\n",
            "\u001b[1m304/304\u001b[0m \u001b[32m━━━━━━━━━━━━━━━━━━━━\u001b[0m\u001b[37m\u001b[0m \u001b[1m76s\u001b[0m 251ms/step - accuracy: 0.8781 - loss: 0.3395 - val_accuracy: 0.8993 - val_loss: 0.3054 - learning_rate: 1.0000e-04\n",
            "Epoch 8/20\n",
            "\u001b[1m304/304\u001b[0m \u001b[32m━━━━━━━━━━━━━━━━━━━━\u001b[0m\u001b[37m\u001b[0m \u001b[1m0s\u001b[0m 240ms/step - accuracy: 0.8588 - loss: 0.3710\n",
            "Epoch 8: val_accuracy improved from 0.89934 to 0.90677, saving model to best_model.keras\n",
            "\u001b[1m304/304\u001b[0m \u001b[32m━━━━━━━━━━━━━━━━━━━━\u001b[0m\u001b[37m\u001b[0m \u001b[1m84s\u001b[0m 275ms/step - accuracy: 0.8589 - loss: 0.3710 - val_accuracy: 0.9068 - val_loss: 0.2870 - learning_rate: 1.0000e-04\n",
            "Epoch 9/20\n",
            "\u001b[1m304/304\u001b[0m \u001b[32m━━━━━━━━━━━━━━━━━━━━\u001b[0m\u001b[37m\u001b[0m \u001b[1m0s\u001b[0m 235ms/step - accuracy: 0.8685 - loss: 0.3396\n",
            "Epoch 9: val_accuracy did not improve from 0.90677\n",
            "\u001b[1m304/304\u001b[0m \u001b[32m━━━━━━━━━━━━━━━━━━━━\u001b[0m\u001b[37m\u001b[0m \u001b[1m77s\u001b[0m 252ms/step - accuracy: 0.8685 - loss: 0.3395 - val_accuracy: 0.9026 - val_loss: 0.2844 - learning_rate: 1.0000e-04\n",
            "Epoch 10/20\n",
            "\u001b[1m304/304\u001b[0m \u001b[32m━━━━━━━━━━━━━━━━━━━━\u001b[0m\u001b[37m\u001b[0m \u001b[1m0s\u001b[0m 232ms/step - accuracy: 0.8682 - loss: 0.3313\n",
            "Epoch 10: val_accuracy improved from 0.90677 to 0.91089, saving model to best_model.keras\n",
            "\u001b[1m304/304\u001b[0m \u001b[32m━━━━━━━━━━━━━━━━━━━━\u001b[0m\u001b[37m\u001b[0m \u001b[1m77s\u001b[0m 253ms/step - accuracy: 0.8682 - loss: 0.3312 - val_accuracy: 0.9109 - val_loss: 0.2707 - learning_rate: 1.0000e-04\n",
            "Epoch 11/20\n",
            "\u001b[1m304/304\u001b[0m \u001b[32m━━━━━━━━━━━━━━━━━━━━\u001b[0m\u001b[37m\u001b[0m \u001b[1m0s\u001b[0m 243ms/step - accuracy: 0.8866 - loss: 0.2952\n",
            "Epoch 11: val_accuracy improved from 0.91089 to 0.91172, saving model to best_model.keras\n",
            "\u001b[1m304/304\u001b[0m \u001b[32m━━━━━━━━━━━━━━━━━━━━\u001b[0m\u001b[37m\u001b[0m \u001b[1m81s\u001b[0m 266ms/step - accuracy: 0.8866 - loss: 0.2952 - val_accuracy: 0.9117 - val_loss: 0.2669 - learning_rate: 1.0000e-04\n",
            "Epoch 12/20\n",
            "\u001b[1m304/304\u001b[0m \u001b[32m━━━━━━━━━━━━━━━━━━━━\u001b[0m\u001b[37m\u001b[0m \u001b[1m0s\u001b[0m 227ms/step - accuracy: 0.8776 - loss: 0.3304\n",
            "Epoch 12: val_accuracy did not improve from 0.91172\n",
            "\u001b[1m304/304\u001b[0m \u001b[32m━━━━━━━━━━━━━━━━━━━━\u001b[0m\u001b[37m\u001b[0m \u001b[1m75s\u001b[0m 246ms/step - accuracy: 0.8776 - loss: 0.3303 - val_accuracy: 0.9101 - val_loss: 0.2636 - learning_rate: 1.0000e-04\n",
            "Epoch 13/20\n",
            "\u001b[1m304/304\u001b[0m \u001b[32m━━━━━━━━━━━━━━━━━━━━\u001b[0m\u001b[37m\u001b[0m \u001b[1m0s\u001b[0m 232ms/step - accuracy: 0.8887 - loss: 0.3008\n",
            "Epoch 13: val_accuracy did not improve from 0.91172\n",
            "\u001b[1m304/304\u001b[0m \u001b[32m━━━━━━━━━━━━━━━━━━━━\u001b[0m\u001b[37m\u001b[0m \u001b[1m84s\u001b[0m 252ms/step - accuracy: 0.8887 - loss: 0.3008 - val_accuracy: 0.9101 - val_loss: 0.2601 - learning_rate: 1.0000e-04\n",
            "Epoch 14/20\n",
            "\u001b[1m304/304\u001b[0m \u001b[32m━━━━━━━━━━━━━━━━━━━━\u001b[0m\u001b[37m\u001b[0m \u001b[1m0s\u001b[0m 230ms/step - accuracy: 0.8902 - loss: 0.2839\n",
            "Epoch 14: val_accuracy improved from 0.91172 to 0.91749, saving model to best_model.keras\n",
            "\u001b[1m304/304\u001b[0m \u001b[32m━━━━━━━━━━━━━━━━━━━━\u001b[0m\u001b[37m\u001b[0m \u001b[1m76s\u001b[0m 252ms/step - accuracy: 0.8902 - loss: 0.2838 - val_accuracy: 0.9175 - val_loss: 0.2532 - learning_rate: 1.0000e-04\n",
            "Epoch 15/20\n",
            "\u001b[1m304/304\u001b[0m \u001b[32m━━━━━━━━━━━━━━━━━━━━\u001b[0m\u001b[37m\u001b[0m \u001b[1m0s\u001b[0m 233ms/step - accuracy: 0.8848 - loss: 0.2902\n",
            "Epoch 15: val_accuracy did not improve from 0.91749\n",
            "\u001b[1m304/304\u001b[0m \u001b[32m━━━━━━━━━━━━━━━━━━━━\u001b[0m\u001b[37m\u001b[0m \u001b[1m76s\u001b[0m 251ms/step - accuracy: 0.8848 - loss: 0.2902 - val_accuracy: 0.9084 - val_loss: 0.2545 - learning_rate: 1.0000e-04\n",
            "Epoch 16/20\n",
            "\u001b[1m304/304\u001b[0m \u001b[32m━━━━━━━━━━━━━━━━━━━━\u001b[0m\u001b[37m\u001b[0m \u001b[1m0s\u001b[0m 225ms/step - accuracy: 0.8893 - loss: 0.2852\n",
            "Epoch 16: val_accuracy did not improve from 0.91749\n",
            "\u001b[1m304/304\u001b[0m \u001b[32m━━━━━━━━━━━━━━━━━━━━\u001b[0m\u001b[37m\u001b[0m \u001b[1m74s\u001b[0m 243ms/step - accuracy: 0.8894 - loss: 0.2852 - val_accuracy: 0.9084 - val_loss: 0.2474 - learning_rate: 1.0000e-04\n",
            "Epoch 17/20\n",
            "\u001b[1m304/304\u001b[0m \u001b[32m━━━━━━━━━━━━━━━━━━━━\u001b[0m\u001b[37m\u001b[0m \u001b[1m0s\u001b[0m 231ms/step - accuracy: 0.9046 - loss: 0.2634\n",
            "Epoch 17: val_accuracy did not improve from 0.91749\n",
            "\u001b[1m304/304\u001b[0m \u001b[32m━━━━━━━━━━━━━━━━━━━━\u001b[0m\u001b[37m\u001b[0m \u001b[1m76s\u001b[0m 249ms/step - accuracy: 0.9046 - loss: 0.2634 - val_accuracy: 0.9134 - val_loss: 0.2437 - learning_rate: 1.0000e-04\n",
            "Epoch 18/20\n",
            "\u001b[1m304/304\u001b[0m \u001b[32m━━━━━━━━━━━━━━━━━━━━\u001b[0m\u001b[37m\u001b[0m \u001b[1m0s\u001b[0m 226ms/step - accuracy: 0.8890 - loss: 0.2894\n",
            "Epoch 18: val_accuracy did not improve from 0.91749\n",
            "\u001b[1m304/304\u001b[0m \u001b[32m━━━━━━━━━━━━━━━━━━━━\u001b[0m\u001b[37m\u001b[0m \u001b[1m74s\u001b[0m 243ms/step - accuracy: 0.8890 - loss: 0.2894 - val_accuracy: 0.9134 - val_loss: 0.2403 - learning_rate: 1.0000e-04\n",
            "Epoch 19/20\n",
            "\u001b[1m304/304\u001b[0m \u001b[32m━━━━━━━━━━━━━━━━━━━━\u001b[0m\u001b[37m\u001b[0m \u001b[1m0s\u001b[0m 226ms/step - accuracy: 0.8894 - loss: 0.2779\n",
            "Epoch 19: val_accuracy did not improve from 0.91749\n",
            "\u001b[1m304/304\u001b[0m \u001b[32m━━━━━━━━━━━━━━━━━━━━\u001b[0m\u001b[37m\u001b[0m \u001b[1m74s\u001b[0m 244ms/step - accuracy: 0.8894 - loss: 0.2779 - val_accuracy: 0.9158 - val_loss: 0.2384 - learning_rate: 1.0000e-04\n",
            "Epoch 20/20\n",
            "\u001b[1m304/304\u001b[0m \u001b[32m━━━━━━━━━━━━━━━━━━━━\u001b[0m\u001b[37m\u001b[0m \u001b[1m0s\u001b[0m 226ms/step - accuracy: 0.9109 - loss: 0.2570\n",
            "Epoch 20: val_accuracy did not improve from 0.91749\n",
            "\u001b[1m304/304\u001b[0m \u001b[32m━━━━━━━━━━━━━━━━━━━━\u001b[0m\u001b[37m\u001b[0m \u001b[1m79s\u001b[0m 260ms/step - accuracy: 0.9109 - loss: 0.2570 - val_accuracy: 0.9142 - val_loss: 0.2410 - learning_rate: 1.0000e-04\n",
            "Restoring model weights from the end of the best epoch: 14.\n"
          ]
        },
        {
          "output_type": "display_data",
          "data": {
            "text/plain": [
              "<Figure size 1500x500 with 2 Axes>"
            ],
            "image/png": "[encoded data removed]"
          },
          "metadata": {}
        },
        {
          "output_type": "stream",
          "name": "stdout",
          "text": [
            "\n",
            "📈 EVALUACIÓN FINAL\n",
            "\u001b[1m76/76\u001b[0m \u001b[32m━━━━━━━━━━━━━━━━━━━━\u001b[0m\u001b[37m\u001b[0m \u001b[1m6s\u001b[0m 74ms/step - accuracy: 0.9223 - loss: 0.2472\n",
            "Test Accuracy: 91.75%\n",
            "\n",
            "🎯 Generando predicciones...\n",
            "\u001b[1m76/76\u001b[0m \u001b[32m━━━━━━━━━━━━━━━━━━━━\u001b[0m\u001b[37m\u001b[0m \u001b[1m13s\u001b[0m 122ms/step\n",
            "\n",
            "📋 Reporte de Clasificación:\n",
            "              precision    recall  f1-score   support\n",
            "\n",
            "       glass     0.9417    0.9232    0.9323       612\n",
            "     plastic     0.9323    0.9040    0.9179       396\n",
            "       metal     0.8289    0.9265    0.8750       204\n",
            "\n",
            "    accuracy                         0.9175      1212\n",
            "   macro avg     0.9010    0.9179    0.9084      1212\n",
            "weighted avg     0.9196    0.9175    0.9180      1212\n",
            "\n"
          ]
        },
        {
          "output_type": "display_data",
          "data": {
            "text/plain": [
              "<Figure size 800x600 with 2 Axes>"
            ],
            "image/png": "[encoded data removed]"
          },
          "metadata": {}
        },
        {
          "output_type": "stream",
          "name": "stdout",
          "text": [
            "✅ Modelo guardado como 'modelo_corregido_materiales.keras'\n"
          ]
        }
      ]
    },
    {
      "cell_type": "code",
      "source": [
        "import gradio as gr\n",
        "import tensorflow as tf\n",
        "import numpy as np\n",
        "from tensorflow.keras.preprocessing.image import load_img, img_to_array\n",
        "\n",
        "# Cargar modelo entrenado\n",
        "MODEL_PATH = \"/content/modelo_corregido_materiales.keras\"\n",
        "model = tf.keras.models.load_model(MODEL_PATH)\n",
        "\n",
        "# Clases según tu entrenamiento\n",
        "class_names = [\"glass\", \"plastic\", \"metal\"]\n",
        "\n",
        "IMG_SIZE = (224, 224)\n",
        "\n",
        "def predict_image(image):\n",
        "    # Redimensionar y normalizar\n",
        "    img = image.resize(IMG_SIZE)\n",
        "    img_array = img_to_array(img) / 255.0\n",
        "    img_array = np.expand_dims(img_array, axis=0)\n",
        "\n",
        "    # Predicción\n",
        "    predictions = model.predict(img_array)\n",
        "    pred_class = class_names[np.argmax(predictions)]\n",
        "    confidence = float(np.max(predictions))\n",
        "\n",
        "    # Resultado\n",
        "    return {cls: float(predictions[0][i]) for i, cls in enumerate(class_names)}, f\"{pred_class} ({confidence*100:.2f}%)\"\n",
        "\n",
        "# Interfaz Gradio\n",
        "with gr.Blocks() as demo:\n",
        "    gr.Markdown(\"## Clasificación de Materiales (glass / plastic / metal)\")\n",
        "\n",
        "    with gr.Row():\n",
        "        with gr.Column():\n",
        "            image_input = gr.Image(type=\"pil\", label=\"Sube una imagen\")\n",
        "            btn = gr.Button(\"Clasificar\")\n",
        "        with gr.Column():\n",
        "            label_output = gr.Label(label=\"Confianza por clase\")\n",
        "            text_output = gr.Textbox(label=\"Predicción final\")\n",
        "\n",
        "    btn.click(fn=predict_image, inputs=image_input, outputs=[label_output, text_output])\n",
        "\n",
        "# Ejecutar\n",
        "if __name__ == \"__main__\":\n",
        "    demo.launch()\n"
      ],
      "metadata": {
        "colab": {
          "base_uri": "https://localhost:8080/",
          "height": 646
        },
        "id": "kNhtUa_ZIicy",
        "outputId": "ccb5d871-1024-4eeb-a088-303132ad856c"
      },
      "execution_count": null,
      "outputs": [
        {
          "output_type": "stream",
          "name": "stdout",
          "text": [
            "It looks like you are running Gradio on a hosted Jupyter notebook, which requires `share=True`. Automatically setting `share=True` (you can turn this off by setting `share=False` in `launch()` explicitly).\n",
            "\n",
            "Colab notebook detected. To show errors in colab notebook, set debug=True in launch()\n",
            "* Running on public URL: https://13f6c385379c960c6c.gradio.live\n",
            "\n",
            "This share link expires in 1 week. For free permanent hosting and GPU upgrades, run `gradio deploy` from the terminal in the working directory to deploy to Hugging Face Spaces (https://huggingface.co/spaces)\n"
          ]
        },
        {
          "output_type": "display_data",
          "data": {
            "text/plain": [
              "<IPython.core.display.HTML object>"
            ],
            "text/html": [
              "<div><iframe src=\"https://13f6c385379c960c6c.gradio.live\" width=\"100%\" height=\"500\" allow=\"autoplay; camera; microphone; clipboard-read; clipboard-write;\" frameborder=\"0\" allowfullscreen></iframe></div>"
            ]
          },
          "metadata": {}
        }
      ]
    }
  ]
}